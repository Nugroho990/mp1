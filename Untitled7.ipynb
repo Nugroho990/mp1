{
  "nbformat": 4,
  "nbformat_minor": 0,
  "metadata": {
    "colab": {
      "provenance": []
    },
    "kernelspec": {
      "name": "python3",
      "display_name": "Python 3"
    },
    "language_info": {
      "name": "python"
    }
  },
  "cells": [
    {
      "cell_type": "code",
      "execution_count": 1,
      "metadata": {
        "colab": {
          "base_uri": "https://localhost:8080/"
        },
        "id": "-CDQfjF0RSeR",
        "outputId": "2b14ef8c-b985-4a53-915c-8127c89885f4"
      },
      "outputs": [
        {
          "output_type": "stream",
          "name": "stdout",
          "text": [
            "Mounted at /content/drive\n"
          ]
        }
      ],
      "source": [
        "from google.colab import drive\n",
        "import os\n",
        "\n",
        "drive.mount('/content/drive')"
      ]
    },
    {
      "cell_type": "code",
      "source": [
        "from google.colab import drive\n",
        "drive.mount('/content/drive')"
      ],
      "metadata": {
        "colab": {
          "base_uri": "https://localhost:8080/"
        },
        "id": "quQkL9jRH7tC",
        "outputId": "de54c402-1b0c-41aa-d699-91955278fe72"
      },
      "execution_count": 2,
      "outputs": [
        {
          "output_type": "stream",
          "name": "stdout",
          "text": [
            "Drive already mounted at /content/drive; to attempt to forcibly remount, call drive.mount(\"/content/drive\", force_remount=True).\n"
          ]
        }
      ]
    },
    {
      "cell_type": "markdown",
      "source": [],
      "metadata": {
        "id": "pHhJljEpMAjd"
      }
    },
    {
      "cell_type": "code",
      "source": [
        "base_dir = '/content/drive/MyDrive/aktivity/'\n",
        "! ls \"/content/drive/MyDrive/aktivity/\"\n",
        "#Kode ini menetapkan direktori utama project Anda (base_dir) dan menampilkan isi dari direktori tersebut menggunakan perintah ls."
      ],
      "metadata": {
        "colab": {
          "base_uri": "https://localhost:8080/"
        },
        "id": "YNnDinGfS36g",
        "outputId": "2ee0b47c-504c-4f4f-f9d5-91b622e252dc"
      },
      "execution_count": 3,
      "outputs": [
        {
          "output_type": "stream",
          "name": "stdout",
          "text": [
            "bahan  latih  validasi\n"
          ]
        }
      ]
    },
    {
      "cell_type": "code",
      "source": [
        "bahan_dir = os.path.join(base_dir, 'bahan')\n",
        "train_dir = os.path.join(base_dir, 'latih')\n",
        "validasi_dir = os.path.join(base_dir, 'validasi')\n",
        "#Kode tersebut menetapkan path ke subdirektori 'bahan', 'latih', dan 'validasi' di dalam direktori utama project Anda. Subdirektori ini umumnya digunakan untuk menyimpan data dan file penting dalam project machine learning."
      ],
      "metadata": {
        "id": "x0TSqnH5acSA"
      },
      "execution_count": 4,
      "outputs": []
    },
    {
      "cell_type": "code",
      "source": [
        "dolphinswater_dir = os.path.join(bahan_dir, 'dolphins water/')\n",
        "whalewater_dir = os.path.join(bahan_dir, 'whale water/')\n",
        "\n",
        "print ('Jumlah Data Train Tiap Kelas :')\n",
        "print ('jumlah gambar dolphin water :', len(os.listdir(dolphinswater_dir)))\n",
        "print ('jumlah gambar whale water :', len(os.listdir(whalewater_dir)))\n",
        "#: Kode tersebut menetapkan path ke direktori data untuk lumba-lumba dan paus di air, kemudian menampilkan jumlah gambar di setiap direktori tersebut. Ini berguna untuk memahami distribusi data dalam dataset."
      ],
      "metadata": {
        "colab": {
          "base_uri": "https://localhost:8080/"
        },
        "id": "4cvzhVOfbPdb",
        "outputId": "760c2cee-f320-4166-b873-13f96292595e"
      },
      "execution_count": 5,
      "outputs": [
        {
          "output_type": "stream",
          "name": "stdout",
          "text": [
            "Jumlah Data Train Tiap Kelas :\n",
            "jumlah gambar dolphin water : 89\n",
            "jumlah gambar whale water : 83\n"
          ]
        }
      ]
    },
    {
      "cell_type": "code",
      "source": [
        "train_dolphinswater = os.path.join(train_dir, 'dolphins water/')\n",
        "train_whalewater = os.path.join(train_dir, 'whale water/')\n",
        "\n",
        "validation_dolphinswater = os.path.join(validasi_dir, 'dolphins water/')\n",
        "validation_whalewater = os.path.join(validasi_dir, 'whale water/')\n",
        "# Kode tersebut menetapkan path ke direktori data latih dan validasi untuk setiap kelas (lumba-lumba dan paus) dalam project Anda. Ini penting untuk memisahkan data dan mengevaluasi performa model dengan data yang belum pernah dilihat sebelumnya."
      ],
      "metadata": {
        "id": "sgjfBX6gckBd"
      },
      "execution_count": 6,
      "outputs": []
    },
    {
      "cell_type": "code",
      "source": [
        "import random\n",
        "from shutil import copyfile\n",
        "\n",
        "def split_data(SOURCE, TRAINING, VALIDATION, SPLIT_SIZE):\n",
        "  total_size = len(os.listdir(SOURCE))\n",
        "  train_size = int(total_size * train_ratio)\n",
        "  val_size = total_size - train_size\n",
        "\n",
        "  randomized = random.sample(os.listdir(SOURCE), total_size)\n",
        "  train_set = randomized[0:train_size]\n",
        "  val_set = randomized[train_size:]\n",
        "\n",
        "  for i in train_files:\n",
        "    i_file = source + i\n",
        "    destination = train + i\n",
        "    copyfile(i_file, destination)\n",
        "\n",
        "  for i in val_files:\n",
        "    i_file = source + i\n",
        "    destination = validation + i\n",
        "    copyfile(i_file, destination)\n",
        "\n",
        "    train_ratio = 0.9\n",
        "\n",
        "    source_00 = dolphinwater_dir\n",
        "    train_00 = train_dolphinswater\n",
        "    val_00 = validation_dolphinswater\n",
        "    train_val_split(source_00, train_00, val_00, train_ratio)\n",
        "\n",
        "    source_01 = whalewater_dir\n",
        "    train_01 = train_whalewater\n",
        "    val_01 = validation_whalewater\n",
        "    train_val_split(source_01, train_01, val_01, train_ratio)\n",
        "\n",
        "# Kode tersebut mendefinisikan fungsi split_data untuk membagi data sumber ke dalam set data latih dan validasi dengan rasio tertentu, lalu menerapkannya pada data lumba-lumba dan paus. Ini memastikan model dilatih dan divalidasi dengan data yang terpisah.\n"
      ],
      "metadata": {
        "id": "LTpcRLsiIbAJ"
      },
      "execution_count": 7,
      "outputs": []
    },
    {
      "cell_type": "code",
      "source": [
        "import tensorflow as tf\n",
        "from tensorflow.keras.optimizers import Adam\n",
        "from tensorflow.keras.preprocessing.image import ImageDataGenerator\n",
        "#Kode tersebut mengimpor library TensorFlow, optimizer Adam, dan ImageDataGenerator untuk mempersiapkan proses pembangunan dan pelatihan model deep learning untuk pengolahan citra.\n",
        "\n"
      ],
      "metadata": {
        "id": "SIYbrzKIN1hv"
      },
      "execution_count": 8,
      "outputs": []
    },
    {
      "cell_type": "code",
      "source": [
        "train_datagen = ImageDataGenerator(\n",
        "    rescale=1./255,\n",
        "    rotation_range=20,\n",
        "    horizontal_flip=True,\n",
        "    shear_range=0.3,\n",
        "    fill_mode='nearest',\n",
        "    width_shift_range=0.2,\n",
        "    height_shift_range=0.2,\n",
        "    zoom_range=0.1\n",
        ")\n",
        "\n",
        "val_datagen = ImageDataGenerator(\n",
        "    rescale=1./255,\n",
        "    rotation_range=30,\n",
        "    horizontal_flip=True,\n",
        "    shear_range=0.3,\n",
        "    fill_mode='nearest',\n",
        "    width_shift_range=0.2,\n",
        "    height_shift_range=0.2,\n",
        "    zoom_range=0.1\n",
        ")\n",
        "# Kode tersebut membuat dua objek ImageDataGenerator dengan parameter augmentasi yang berbeda untuk data latih dan data validasi. Ini bertujuan untuk meningkatkan jumlah data latih dan mencegah overfitting, serta membuat data validasi lebih menantang bagi model."
      ],
      "metadata": {
        "id": "YO58NGFcVBRi"
      },
      "execution_count": 9,
      "outputs": []
    },
    {
      "cell_type": "code",
      "source": [
        "train_generator = train_datagen.flow_from_directory(\n",
        "    train_dir,\n",
        "    target_size=(150, 150),\n",
        "    batch_size=10,\n",
        "    class_mode='categorical'\n",
        ")\n",
        "\n",
        "val_generator = val_datagen.flow_from_directory(\n",
        "    validasi_dir,\n",
        "    target_size=(150, 150),\n",
        "    batch_size=10,\n",
        "    class_mode='categorical'\n",
        ")\n",
        "#Kode tersebut membuat generator data (train_generator dan val_generator) yang akan menyediakan data latih dan validasi kepada model dalam batch-batch kecil. Pengaturan target_size, batch_size, dan class_mode memastikan data disiapkan dengan format yang sesuai untuk model."
      ],
      "metadata": {
        "colab": {
          "base_uri": "https://localhost:8080/"
        },
        "id": "3k0OOjP1rLhQ",
        "outputId": "3f05eb7a-37b8-47ad-f9c0-f72807e30f73"
      },
      "execution_count": 10,
      "outputs": [
        {
          "output_type": "stream",
          "name": "stdout",
          "text": [
            "Found 0 images belonging to 0 classes.\n",
            "Found 0 images belonging to 0 classes.\n"
          ]
        }
      ]
    },
    {
      "cell_type": "code",
      "source": [
        "class myCallback(tf.keras.callbacks.Callback):\n",
        "  def on_epoch_end(self, epoch, logs={}):\n",
        "    if(logs.get('accuracy')>0.99):\n",
        "      print('\\nAkurasi mencapai 99%')\n",
        "      self.model.stop_training = True\n",
        "\n",
        "callback = myCallback()\n",
        "#Kode tersebut mendefinisikan callback myCallback yang akan menghentikan pelatihan model ketika akurasi mencapai 99%. Ini berguna untuk mencegah overfitting dan menghemat waktu pelatihan."
      ],
      "metadata": {
        "id": "cO62MxYXtZMk"
      },
      "execution_count": 11,
      "outputs": []
    },
    {
      "cell_type": "code",
      "source": [
        "model = tf.keras.models.Sequential([\n",
        "    tf.keras.layers.Conv2D(32, (3,3), activation='relu', input_shape=(150, 150, 3)),\n",
        "    tf.keras.layers.MaxPooling2D(2, 2),\n",
        "    tf.keras.layers.Conv2D(64, (3,3), activation='relu'),\n",
        "    tf.keras.layers.MaxPooling2D(2,2),\n",
        "    tf.keras.layers.Conv2D(128, (3,3), activation='relu'),\n",
        "    tf.keras.layers.MaxPooling2D(2,2),\n",
        "    tf.keras.layers.Flatten(),\n",
        "    tf.keras.layers.Dense(200 , activation= 'relu'),\n",
        "    tf.keras.layers.Dropout(0.3, seed=112),\n",
        "    tf.keras.layers.Dense(500 , activation= 'relu'),\n",
        "    tf.keras.layers.Dropout(0.5, seed=112),\n",
        "    tf.keras.layers.Dense(2, activation='sigmoid')\n",
        "])\n",
        "#Kode tersebut membangun sebuah model CNN dengan tiga lapisan konvolusi, tiga lapisan Max Pooling, dua lapisan Dense, dan dua lapisan Dropout. Model ini dirancang untuk klasifikasi gambar dengan dua kelas output, menggunakan fungsi aktivasi sigmoid pada lapisan output."
      ],
      "metadata": {
        "id": "NBmUp3lPKVYN",
        "colab": {
          "base_uri": "https://localhost:8080/"
        },
        "outputId": "b2b71a91-b790-45a6-e84f-cdf7af51474f"
      },
      "execution_count": 12,
      "outputs": [
        {
          "output_type": "stream",
          "name": "stderr",
          "text": [
            "/usr/local/lib/python3.11/dist-packages/keras/src/layers/convolutional/base_conv.py:107: UserWarning: Do not pass an `input_shape`/`input_dim` argument to a layer. When using Sequential models, prefer using an `Input(shape)` object as the first layer in the model instead.\n",
            "  super().__init__(activity_regularizer=activity_regularizer, **kwargs)\n"
          ]
        }
      ]
    },
    {
      "cell_type": "code",
      "source": [
        "model.summary()\n",
        "#Kode model.summary() menampilkan ringkasan arsitektur model, memberikan informasi tentang layer, output shape, jumlah parameter, dan koneksi antar layer. Ini membantu dalam memahami dan memverifikasi model yang telah dibangun."
      ],
      "metadata": {
        "colab": {
          "base_uri": "https://localhost:8080/",
          "height": 526
        },
        "id": "racN5vS6N2il",
        "outputId": "c8758cd8-14fe-4780-d884-4cab39672ae0"
      },
      "execution_count": 13,
      "outputs": [
        {
          "output_type": "display_data",
          "data": {
            "text/plain": [
              "\u001b[1mModel: \"sequential\"\u001b[0m\n"
            ],
            "text/html": [
              "<pre style=\"white-space:pre;overflow-x:auto;line-height:normal;font-family:Menlo,'DejaVu Sans Mono',consolas,'Courier New',monospace\"><span style=\"font-weight: bold\">Model: \"sequential\"</span>\n",
              "</pre>\n"
            ]
          },
          "metadata": {}
        },
        {
          "output_type": "display_data",
          "data": {
            "text/plain": [
              "┏━━━━━━━━━━━━━━━━━━━━━━━━━━━━━━━━━━━━━━┳━━━━━━━━━━━━━━━━━━━━━━━━━━━━━┳━━━━━━━━━━━━━━━━━┓\n",
              "┃\u001b[1m \u001b[0m\u001b[1mLayer (type)                        \u001b[0m\u001b[1m \u001b[0m┃\u001b[1m \u001b[0m\u001b[1mOutput Shape               \u001b[0m\u001b[1m \u001b[0m┃\u001b[1m \u001b[0m\u001b[1m        Param #\u001b[0m\u001b[1m \u001b[0m┃\n",
              "┡━━━━━━━━━━━━━━━━━━━━━━━━━━━━━━━━━━━━━━╇━━━━━━━━━━━━━━━━━━━━━━━━━━━━━╇━━━━━━━━━━━━━━━━━┩\n",
              "│ conv2d (\u001b[38;5;33mConv2D\u001b[0m)                      │ (\u001b[38;5;45mNone\u001b[0m, \u001b[38;5;34m148\u001b[0m, \u001b[38;5;34m148\u001b[0m, \u001b[38;5;34m32\u001b[0m)        │             \u001b[38;5;34m896\u001b[0m │\n",
              "├──────────────────────────────────────┼─────────────────────────────┼─────────────────┤\n",
              "│ max_pooling2d (\u001b[38;5;33mMaxPooling2D\u001b[0m)         │ (\u001b[38;5;45mNone\u001b[0m, \u001b[38;5;34m74\u001b[0m, \u001b[38;5;34m74\u001b[0m, \u001b[38;5;34m32\u001b[0m)          │               \u001b[38;5;34m0\u001b[0m │\n",
              "├──────────────────────────────────────┼─────────────────────────────┼─────────────────┤\n",
              "│ conv2d_1 (\u001b[38;5;33mConv2D\u001b[0m)                    │ (\u001b[38;5;45mNone\u001b[0m, \u001b[38;5;34m72\u001b[0m, \u001b[38;5;34m72\u001b[0m, \u001b[38;5;34m64\u001b[0m)          │          \u001b[38;5;34m18,496\u001b[0m │\n",
              "├──────────────────────────────────────┼─────────────────────────────┼─────────────────┤\n",
              "│ max_pooling2d_1 (\u001b[38;5;33mMaxPooling2D\u001b[0m)       │ (\u001b[38;5;45mNone\u001b[0m, \u001b[38;5;34m36\u001b[0m, \u001b[38;5;34m36\u001b[0m, \u001b[38;5;34m64\u001b[0m)          │               \u001b[38;5;34m0\u001b[0m │\n",
              "├──────────────────────────────────────┼─────────────────────────────┼─────────────────┤\n",
              "│ conv2d_2 (\u001b[38;5;33mConv2D\u001b[0m)                    │ (\u001b[38;5;45mNone\u001b[0m, \u001b[38;5;34m34\u001b[0m, \u001b[38;5;34m34\u001b[0m, \u001b[38;5;34m128\u001b[0m)         │          \u001b[38;5;34m73,856\u001b[0m │\n",
              "├──────────────────────────────────────┼─────────────────────────────┼─────────────────┤\n",
              "│ max_pooling2d_2 (\u001b[38;5;33mMaxPooling2D\u001b[0m)       │ (\u001b[38;5;45mNone\u001b[0m, \u001b[38;5;34m17\u001b[0m, \u001b[38;5;34m17\u001b[0m, \u001b[38;5;34m128\u001b[0m)         │               \u001b[38;5;34m0\u001b[0m │\n",
              "├──────────────────────────────────────┼─────────────────────────────┼─────────────────┤\n",
              "│ flatten (\u001b[38;5;33mFlatten\u001b[0m)                    │ (\u001b[38;5;45mNone\u001b[0m, \u001b[38;5;34m36992\u001b[0m)               │               \u001b[38;5;34m0\u001b[0m │\n",
              "├──────────────────────────────────────┼─────────────────────────────┼─────────────────┤\n",
              "│ dense (\u001b[38;5;33mDense\u001b[0m)                        │ (\u001b[38;5;45mNone\u001b[0m, \u001b[38;5;34m200\u001b[0m)                 │       \u001b[38;5;34m7,398,600\u001b[0m │\n",
              "├──────────────────────────────────────┼─────────────────────────────┼─────────────────┤\n",
              "│ dropout (\u001b[38;5;33mDropout\u001b[0m)                    │ (\u001b[38;5;45mNone\u001b[0m, \u001b[38;5;34m200\u001b[0m)                 │               \u001b[38;5;34m0\u001b[0m │\n",
              "├──────────────────────────────────────┼─────────────────────────────┼─────────────────┤\n",
              "│ dense_1 (\u001b[38;5;33mDense\u001b[0m)                      │ (\u001b[38;5;45mNone\u001b[0m, \u001b[38;5;34m500\u001b[0m)                 │         \u001b[38;5;34m100,500\u001b[0m │\n",
              "├──────────────────────────────────────┼─────────────────────────────┼─────────────────┤\n",
              "│ dropout_1 (\u001b[38;5;33mDropout\u001b[0m)                  │ (\u001b[38;5;45mNone\u001b[0m, \u001b[38;5;34m500\u001b[0m)                 │               \u001b[38;5;34m0\u001b[0m │\n",
              "├──────────────────────────────────────┼─────────────────────────────┼─────────────────┤\n",
              "│ dense_2 (\u001b[38;5;33mDense\u001b[0m)                      │ (\u001b[38;5;45mNone\u001b[0m, \u001b[38;5;34m2\u001b[0m)                   │           \u001b[38;5;34m1,002\u001b[0m │\n",
              "└──────────────────────────────────────┴─────────────────────────────┴─────────────────┘\n"
            ],
            "text/html": [
              "<pre style=\"white-space:pre;overflow-x:auto;line-height:normal;font-family:Menlo,'DejaVu Sans Mono',consolas,'Courier New',monospace\">┏━━━━━━━━━━━━━━━━━━━━━━━━━━━━━━━━━━━━━━┳━━━━━━━━━━━━━━━━━━━━━━━━━━━━━┳━━━━━━━━━━━━━━━━━┓\n",
              "┃<span style=\"font-weight: bold\"> Layer (type)                         </span>┃<span style=\"font-weight: bold\"> Output Shape                </span>┃<span style=\"font-weight: bold\">         Param # </span>┃\n",
              "┡━━━━━━━━━━━━━━━━━━━━━━━━━━━━━━━━━━━━━━╇━━━━━━━━━━━━━━━━━━━━━━━━━━━━━╇━━━━━━━━━━━━━━━━━┩\n",
              "│ conv2d (<span style=\"color: #0087ff; text-decoration-color: #0087ff\">Conv2D</span>)                      │ (<span style=\"color: #00d7ff; text-decoration-color: #00d7ff\">None</span>, <span style=\"color: #00af00; text-decoration-color: #00af00\">148</span>, <span style=\"color: #00af00; text-decoration-color: #00af00\">148</span>, <span style=\"color: #00af00; text-decoration-color: #00af00\">32</span>)        │             <span style=\"color: #00af00; text-decoration-color: #00af00\">896</span> │\n",
              "├──────────────────────────────────────┼─────────────────────────────┼─────────────────┤\n",
              "│ max_pooling2d (<span style=\"color: #0087ff; text-decoration-color: #0087ff\">MaxPooling2D</span>)         │ (<span style=\"color: #00d7ff; text-decoration-color: #00d7ff\">None</span>, <span style=\"color: #00af00; text-decoration-color: #00af00\">74</span>, <span style=\"color: #00af00; text-decoration-color: #00af00\">74</span>, <span style=\"color: #00af00; text-decoration-color: #00af00\">32</span>)          │               <span style=\"color: #00af00; text-decoration-color: #00af00\">0</span> │\n",
              "├──────────────────────────────────────┼─────────────────────────────┼─────────────────┤\n",
              "│ conv2d_1 (<span style=\"color: #0087ff; text-decoration-color: #0087ff\">Conv2D</span>)                    │ (<span style=\"color: #00d7ff; text-decoration-color: #00d7ff\">None</span>, <span style=\"color: #00af00; text-decoration-color: #00af00\">72</span>, <span style=\"color: #00af00; text-decoration-color: #00af00\">72</span>, <span style=\"color: #00af00; text-decoration-color: #00af00\">64</span>)          │          <span style=\"color: #00af00; text-decoration-color: #00af00\">18,496</span> │\n",
              "├──────────────────────────────────────┼─────────────────────────────┼─────────────────┤\n",
              "│ max_pooling2d_1 (<span style=\"color: #0087ff; text-decoration-color: #0087ff\">MaxPooling2D</span>)       │ (<span style=\"color: #00d7ff; text-decoration-color: #00d7ff\">None</span>, <span style=\"color: #00af00; text-decoration-color: #00af00\">36</span>, <span style=\"color: #00af00; text-decoration-color: #00af00\">36</span>, <span style=\"color: #00af00; text-decoration-color: #00af00\">64</span>)          │               <span style=\"color: #00af00; text-decoration-color: #00af00\">0</span> │\n",
              "├──────────────────────────────────────┼─────────────────────────────┼─────────────────┤\n",
              "│ conv2d_2 (<span style=\"color: #0087ff; text-decoration-color: #0087ff\">Conv2D</span>)                    │ (<span style=\"color: #00d7ff; text-decoration-color: #00d7ff\">None</span>, <span style=\"color: #00af00; text-decoration-color: #00af00\">34</span>, <span style=\"color: #00af00; text-decoration-color: #00af00\">34</span>, <span style=\"color: #00af00; text-decoration-color: #00af00\">128</span>)         │          <span style=\"color: #00af00; text-decoration-color: #00af00\">73,856</span> │\n",
              "├──────────────────────────────────────┼─────────────────────────────┼─────────────────┤\n",
              "│ max_pooling2d_2 (<span style=\"color: #0087ff; text-decoration-color: #0087ff\">MaxPooling2D</span>)       │ (<span style=\"color: #00d7ff; text-decoration-color: #00d7ff\">None</span>, <span style=\"color: #00af00; text-decoration-color: #00af00\">17</span>, <span style=\"color: #00af00; text-decoration-color: #00af00\">17</span>, <span style=\"color: #00af00; text-decoration-color: #00af00\">128</span>)         │               <span style=\"color: #00af00; text-decoration-color: #00af00\">0</span> │\n",
              "├──────────────────────────────────────┼─────────────────────────────┼─────────────────┤\n",
              "│ flatten (<span style=\"color: #0087ff; text-decoration-color: #0087ff\">Flatten</span>)                    │ (<span style=\"color: #00d7ff; text-decoration-color: #00d7ff\">None</span>, <span style=\"color: #00af00; text-decoration-color: #00af00\">36992</span>)               │               <span style=\"color: #00af00; text-decoration-color: #00af00\">0</span> │\n",
              "├──────────────────────────────────────┼─────────────────────────────┼─────────────────┤\n",
              "│ dense (<span style=\"color: #0087ff; text-decoration-color: #0087ff\">Dense</span>)                        │ (<span style=\"color: #00d7ff; text-decoration-color: #00d7ff\">None</span>, <span style=\"color: #00af00; text-decoration-color: #00af00\">200</span>)                 │       <span style=\"color: #00af00; text-decoration-color: #00af00\">7,398,600</span> │\n",
              "├──────────────────────────────────────┼─────────────────────────────┼─────────────────┤\n",
              "│ dropout (<span style=\"color: #0087ff; text-decoration-color: #0087ff\">Dropout</span>)                    │ (<span style=\"color: #00d7ff; text-decoration-color: #00d7ff\">None</span>, <span style=\"color: #00af00; text-decoration-color: #00af00\">200</span>)                 │               <span style=\"color: #00af00; text-decoration-color: #00af00\">0</span> │\n",
              "├──────────────────────────────────────┼─────────────────────────────┼─────────────────┤\n",
              "│ dense_1 (<span style=\"color: #0087ff; text-decoration-color: #0087ff\">Dense</span>)                      │ (<span style=\"color: #00d7ff; text-decoration-color: #00d7ff\">None</span>, <span style=\"color: #00af00; text-decoration-color: #00af00\">500</span>)                 │         <span style=\"color: #00af00; text-decoration-color: #00af00\">100,500</span> │\n",
              "├──────────────────────────────────────┼─────────────────────────────┼─────────────────┤\n",
              "│ dropout_1 (<span style=\"color: #0087ff; text-decoration-color: #0087ff\">Dropout</span>)                  │ (<span style=\"color: #00d7ff; text-decoration-color: #00d7ff\">None</span>, <span style=\"color: #00af00; text-decoration-color: #00af00\">500</span>)                 │               <span style=\"color: #00af00; text-decoration-color: #00af00\">0</span> │\n",
              "├──────────────────────────────────────┼─────────────────────────────┼─────────────────┤\n",
              "│ dense_2 (<span style=\"color: #0087ff; text-decoration-color: #0087ff\">Dense</span>)                      │ (<span style=\"color: #00d7ff; text-decoration-color: #00d7ff\">None</span>, <span style=\"color: #00af00; text-decoration-color: #00af00\">2</span>)                   │           <span style=\"color: #00af00; text-decoration-color: #00af00\">1,002</span> │\n",
              "└──────────────────────────────────────┴─────────────────────────────┴─────────────────┘\n",
              "</pre>\n"
            ]
          },
          "metadata": {}
        },
        {
          "output_type": "display_data",
          "data": {
            "text/plain": [
              "\u001b[1m Total params: \u001b[0m\u001b[38;5;34m7,593,350\u001b[0m (28.97 MB)\n"
            ],
            "text/html": [
              "<pre style=\"white-space:pre;overflow-x:auto;line-height:normal;font-family:Menlo,'DejaVu Sans Mono',consolas,'Courier New',monospace\"><span style=\"font-weight: bold\"> Total params: </span><span style=\"color: #00af00; text-decoration-color: #00af00\">7,593,350</span> (28.97 MB)\n",
              "</pre>\n"
            ]
          },
          "metadata": {}
        },
        {
          "output_type": "display_data",
          "data": {
            "text/plain": [
              "\u001b[1m Trainable params: \u001b[0m\u001b[38;5;34m7,593,350\u001b[0m (28.97 MB)\n"
            ],
            "text/html": [
              "<pre style=\"white-space:pre;overflow-x:auto;line-height:normal;font-family:Menlo,'DejaVu Sans Mono',consolas,'Courier New',monospace\"><span style=\"font-weight: bold\"> Trainable params: </span><span style=\"color: #00af00; text-decoration-color: #00af00\">7,593,350</span> (28.97 MB)\n",
              "</pre>\n"
            ]
          },
          "metadata": {}
        },
        {
          "output_type": "display_data",
          "data": {
            "text/plain": [
              "\u001b[1m Non-trainable params: \u001b[0m\u001b[38;5;34m0\u001b[0m (0.00 B)\n"
            ],
            "text/html": [
              "<pre style=\"white-space:pre;overflow-x:auto;line-height:normal;font-family:Menlo,'DejaVu Sans Mono',consolas,'Courier New',monospace\"><span style=\"font-weight: bold\"> Non-trainable params: </span><span style=\"color: #00af00; text-decoration-color: #00af00\">0</span> (0.00 B)\n",
              "</pre>\n"
            ]
          },
          "metadata": {}
        }
      ]
    },
    {
      "cell_type": "code",
      "source": [
        "model.compile(loss='categorical_crossentropy',\n",
        "              optimizer= 'adam',\n",
        "              metrics=['accuracy'])\n",
        "# Kode tersebut mengkonfigurasi model untuk pelatihan dengan menentukan fungsi loss, optimizer, dan metrik evaluasi. Fungsi loss categorical_crossentropy digunakan karena ini adalah tugas klasifikasi multi-kelas, optimizer adam digunakan untuk memperbarui bobot model, dan metrik accuracy digunakan untuk mengukur performa model."
      ],
      "metadata": {
        "id": "BeAAO_PDNkym"
      },
      "execution_count": 14,
      "outputs": []
    },
    {
      "cell_type": "code",
      "source": [
        "history = model.fit(\n",
        "    train_generator,\n",
        "    steps_per_epoch=3,\n",
        "    epochs=25,\n",
        "    validation_data=val_generator,\n",
        "    validation_steps=1,\n",
        "    verbose=1,\n",
        "    callbacks=[callback]\n",
        ")\n",
        "# Kode tersebut memulai proses pelatihan model dengan data latih dan validasi yang telah ditentukan, menjalankan 25 epoch, dan menggunakan callback untuk menghentikan pelatihan jika akurasi mencapai 99%. Riwayat pelatihan disimpan dalam variabel history."
      ],
      "metadata": {
        "id": "j6BOCEq5kma2"
      },
      "execution_count": null,
      "outputs": []
    },
    {
      "cell_type": "code",
      "source": [
        "%matplotlib inline\n",
        "\n",
        "import matplotlib.image as mpimg\n",
        "import matplotlib.pyplot as plt\n",
        "\n",
        "acc = history.history['accuracy']\n",
        "val_acc = history.history['val_accuracy']\n",
        "loss = history.history['loss']\n",
        "val_loss = history.history['val_loss']\n",
        "\n",
        "epochs = range(len(acc))\n",
        "\n",
        "plt.plot(epochs, acc, 'r', label='Training accuracy')\n",
        "plt.plot(epochs, val_acc, 'b', label='Validation accuracy')\n",
        "plt.title('Training and validation accuracy')\n",
        "plt.legend(loc = 'best')\n",
        "plt.figure()\n",
        "plt.show()\n",
        "\n",
        "plt.plot(epochs, acc, 'r', label='Training loss')\n",
        "plt.plot(epochs, val_acc, 'b', label='Validation loss')\n",
        "plt.title('Training and validation Loss')\n",
        "plt.legend(loc = 'best')\n",
        "plt.figure()\n",
        "plt.show()\n",
        "#Kode tersebut memvisualisasikan performa model selama proses pelatihan, menampilkan grafik akurasi dan loss untuk data latih dan data validasi. Ini membantu dalam menganalisis performa model dan mendeteksi overfitting atau underfitting."
      ],
      "metadata": {
        "id": "MLlrNadnqDZd"
      },
      "execution_count": null,
      "outputs": []
    },
    {
      "cell_type": "code",
      "source": [
        "import numpy as np\n",
        "from keras.preprocessing import image\n",
        "from google.colab import files\n",
        "\n",
        "uploaded = files.upload()\n",
        "\n",
        "class_list = [\"dolphins water\", \"whale water\"]\n",
        "\n",
        "for fn in uploaded.keys():\n",
        "\n",
        "    path = fn\n",
        "    img = image.load_img(path, target_size=(150, 150))\n",
        "    plt.imshow(img)\n",
        "    plt.axis('off')\n",
        "    plt.show()\n",
        "\n",
        "    x = image.img_to_array(img)\n",
        "    x = np.expand_dims(x, axis=0)\n",
        "    x = x / 255.0\n",
        "\n",
        "    classes = model.predict(x)\n",
        "\n",
        "    if classes.shape[1] == 2:\n",
        "        predicted_class = np.argmax(classes, axis=1)[0]\n",
        "    else:\n",
        "        predicted_class = int(classes[0][0] > 0.5)\n",
        "\n",
        "    print(f\"Prediksi: This is a {class_list[predicted_class]}\")\n",
        "     #Kode tersebut memungkinkan pengguna untuk mengupload gambar, memprosesnya, dan mendapatkan prediksi dari model yang telah dilatih untuk menentukan apakah gambar tersebut termasuk \"dolphins water\" atau \"whale water\"."
      ],
      "metadata": {
        "id": "x00WpT8pktS3"
      },
      "execution_count": null,
      "outputs": []
    }
  ]
}